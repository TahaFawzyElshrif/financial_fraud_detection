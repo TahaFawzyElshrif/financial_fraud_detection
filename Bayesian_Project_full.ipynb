{
  "cells": [
    {
      "cell_type": "markdown",
      "id": "0e770b3d",
      "metadata": {
        "id": "0e770b3d"
      },
      "source": [
        "## Install Data"
      ]
    },
    {
      "cell_type": "code",
      "execution_count": null,
      "id": "b2f23f24",
      "metadata": {
        "id": "b2f23f24"
      },
      "outputs": [],
      "source": [
        "# pip install kagglehub"
      ]
    },
    {
      "cell_type": "code",
      "execution_count": null,
      "id": "f4616971",
      "metadata": {
        "id": "f4616971"
      },
      "outputs": [],
      "source": [
        "# import kagglehub\n",
        "\n",
        "# # Download latest version\n",
        "# path = kagglehub.dataset_download(\"aryan208/financial-transactions-dataset-for-fraud-detection\")\n",
        "\n",
        "# print(\"Path to dataset files:\", path)"
      ]
    },
    {
      "cell_type": "code",
      "execution_count": null,
      "id": "R3DV8CjreROZ",
      "metadata": {
        "id": "R3DV8CjreROZ"
      },
      "outputs": [],
      "source": []
    },
    {
      "cell_type": "code",
      "execution_count": null,
      "id": "nFfIppU0eRRv",
      "metadata": {
        "id": "nFfIppU0eRRv"
      },
      "outputs": [],
      "source": [
        "# from google.colab import files\n",
        "\n",
        "# # Upload kaggle.json\n",
        "# files.upload()\n"
      ]
    },
    {
      "cell_type": "code",
      "execution_count": null,
      "id": "bVHvzNgJenE9",
      "metadata": {
        "id": "bVHvzNgJenE9"
      },
      "outputs": [],
      "source": [
        "import os\n",
        "import zipfile\n",
        "\n",
        "# Create the .kaggle directory and move the json file\n",
        "os.makedirs(\"/root/.kaggle\", exist_ok=True)\n",
        "!mv kaggle.json /root/.kaggle/kaggle.json\n",
        "\n",
        "# Set permissions\n",
        "!chmod 600 /root/.kaggle/kaggle.json\n"
      ]
    },
    {
      "cell_type": "code",
      "execution_count": null,
      "id": "1ZBeGyCUeyvg",
      "metadata": {
        "colab": {
          "base_uri": "https://localhost:8080/"
        },
        "id": "1ZBeGyCUeyvg",
        "outputId": "2f93468b-21b1-44e5-c9c7-99b622263f1a"
      },
      "outputs": [
        {
          "name": "stdout",
          "output_type": "stream",
          "text": [
            "Dataset URL: https://www.kaggle.com/datasets/aryan208/financial-transactions-dataset-for-fraud-detection\n",
            "License(s): CC0-1.0\n"
          ]
        }
      ],
      "source": [
        "!pip install -q kaggle\n",
        "\n",
        "# Download and unzip the dataset\n",
        "!kaggle datasets download -d aryan208/financial-transactions-dataset-for-fraud-detection\n",
        "!unzip -q financial-transactions-dataset-for-fraud-detection.zip -d data\n"
      ]
    },
    {
      "cell_type": "markdown",
      "id": "c9ed7ecd",
      "metadata": {
        "id": "c9ed7ecd"
      },
      "source": [
        "## Load Data"
      ]
    },
    {
      "cell_type": "markdown",
      "id": "96b9fbc9",
      "metadata": {
        "id": "96b9fbc9"
      },
      "source": [
        "Note Loading and further processing may take time as data size"
      ]
    },
    {
      "cell_type": "code",
      "execution_count": 1,
      "id": "a99f4fef",
      "metadata": {
        "id": "a99f4fef"
      },
      "outputs": [],
      "source": [
        "import pandas as pd\n",
        "data = pd.read_csv(\"financial_fraud_detection_dataset.csv\")"
      ]
    },
    {
      "cell_type": "markdown",
      "id": "180e4cde",
      "metadata": {
        "id": "180e4cde"
      },
      "source": [
        "## Explore Data"
      ]
    },
    {
      "cell_type": "code",
      "execution_count": 2,
      "id": "763ea53d",
      "metadata": {
        "colab": {
          "base_uri": "https://localhost:8080/",
          "height": 313
        },
        "id": "763ea53d",
        "outputId": "0a99b9d8-af6f-4c83-8661-8a20463ad69f"
      },
      "outputs": [
        {
          "data": {
            "text/html": [
              "<div>\n",
              "<style scoped>\n",
              "    .dataframe tbody tr th:only-of-type {\n",
              "        vertical-align: middle;\n",
              "    }\n",
              "\n",
              "    .dataframe tbody tr th {\n",
              "        vertical-align: top;\n",
              "    }\n",
              "\n",
              "    .dataframe thead th {\n",
              "        text-align: right;\n",
              "    }\n",
              "</style>\n",
              "<table border=\"1\" class=\"dataframe\">\n",
              "  <thead>\n",
              "    <tr style=\"text-align: right;\">\n",
              "      <th></th>\n",
              "      <th>transaction_id</th>\n",
              "      <th>timestamp</th>\n",
              "      <th>sender_account</th>\n",
              "      <th>receiver_account</th>\n",
              "      <th>amount</th>\n",
              "      <th>transaction_type</th>\n",
              "      <th>merchant_category</th>\n",
              "      <th>location</th>\n",
              "      <th>device_used</th>\n",
              "      <th>is_fraud</th>\n",
              "      <th>fraud_type</th>\n",
              "      <th>time_since_last_transaction</th>\n",
              "      <th>spending_deviation_score</th>\n",
              "      <th>velocity_score</th>\n",
              "      <th>geo_anomaly_score</th>\n",
              "      <th>payment_channel</th>\n",
              "      <th>ip_address</th>\n",
              "      <th>device_hash</th>\n",
              "    </tr>\n",
              "  </thead>\n",
              "  <tbody>\n",
              "    <tr>\n",
              "      <th>0</th>\n",
              "      <td>T100000</td>\n",
              "      <td>2023-08-22T09:22:43.516168</td>\n",
              "      <td>ACC877572</td>\n",
              "      <td>ACC388389</td>\n",
              "      <td>343.78</td>\n",
              "      <td>withdrawal</td>\n",
              "      <td>utilities</td>\n",
              "      <td>Tokyo</td>\n",
              "      <td>mobile</td>\n",
              "      <td>False</td>\n",
              "      <td>NaN</td>\n",
              "      <td>NaN</td>\n",
              "      <td>-0.21</td>\n",
              "      <td>3</td>\n",
              "      <td>0.22</td>\n",
              "      <td>card</td>\n",
              "      <td>13.101.214.112</td>\n",
              "      <td>D8536477</td>\n",
              "    </tr>\n",
              "    <tr>\n",
              "      <th>1</th>\n",
              "      <td>T100001</td>\n",
              "      <td>2023-08-04T01:58:02.606711</td>\n",
              "      <td>ACC895667</td>\n",
              "      <td>ACC944962</td>\n",
              "      <td>419.65</td>\n",
              "      <td>withdrawal</td>\n",
              "      <td>online</td>\n",
              "      <td>Toronto</td>\n",
              "      <td>atm</td>\n",
              "      <td>False</td>\n",
              "      <td>NaN</td>\n",
              "      <td>NaN</td>\n",
              "      <td>-0.14</td>\n",
              "      <td>7</td>\n",
              "      <td>0.96</td>\n",
              "      <td>ACH</td>\n",
              "      <td>172.52.47.194</td>\n",
              "      <td>D2622631</td>\n",
              "    </tr>\n",
              "    <tr>\n",
              "      <th>2</th>\n",
              "      <td>T100002</td>\n",
              "      <td>2023-05-12T11:39:33.742963</td>\n",
              "      <td>ACC733052</td>\n",
              "      <td>ACC377370</td>\n",
              "      <td>2773.86</td>\n",
              "      <td>deposit</td>\n",
              "      <td>other</td>\n",
              "      <td>London</td>\n",
              "      <td>pos</td>\n",
              "      <td>False</td>\n",
              "      <td>NaN</td>\n",
              "      <td>NaN</td>\n",
              "      <td>-1.78</td>\n",
              "      <td>20</td>\n",
              "      <td>0.89</td>\n",
              "      <td>card</td>\n",
              "      <td>185.98.35.23</td>\n",
              "      <td>D4823498</td>\n",
              "    </tr>\n",
              "    <tr>\n",
              "      <th>3</th>\n",
              "      <td>T100003</td>\n",
              "      <td>2023-10-10T06:04:43.195112</td>\n",
              "      <td>ACC996865</td>\n",
              "      <td>ACC344098</td>\n",
              "      <td>1666.22</td>\n",
              "      <td>deposit</td>\n",
              "      <td>online</td>\n",
              "      <td>Sydney</td>\n",
              "      <td>pos</td>\n",
              "      <td>False</td>\n",
              "      <td>NaN</td>\n",
              "      <td>NaN</td>\n",
              "      <td>-0.60</td>\n",
              "      <td>6</td>\n",
              "      <td>0.37</td>\n",
              "      <td>wire_transfer</td>\n",
              "      <td>107.136.36.87</td>\n",
              "      <td>D9961380</td>\n",
              "    </tr>\n",
              "    <tr>\n",
              "      <th>4</th>\n",
              "      <td>T100004</td>\n",
              "      <td>2023-09-24T08:09:02.700162</td>\n",
              "      <td>ACC584714</td>\n",
              "      <td>ACC497887</td>\n",
              "      <td>24.43</td>\n",
              "      <td>transfer</td>\n",
              "      <td>utilities</td>\n",
              "      <td>Toronto</td>\n",
              "      <td>mobile</td>\n",
              "      <td>False</td>\n",
              "      <td>NaN</td>\n",
              "      <td>NaN</td>\n",
              "      <td>0.79</td>\n",
              "      <td>13</td>\n",
              "      <td>0.27</td>\n",
              "      <td>ACH</td>\n",
              "      <td>108.161.108.255</td>\n",
              "      <td>D7637601</td>\n",
              "    </tr>\n",
              "  </tbody>\n",
              "</table>\n",
              "</div>"
            ],
            "text/plain": [
              "  transaction_id                   timestamp sender_account receiver_account  \\\n",
              "0        T100000  2023-08-22T09:22:43.516168      ACC877572        ACC388389   \n",
              "1        T100001  2023-08-04T01:58:02.606711      ACC895667        ACC944962   \n",
              "2        T100002  2023-05-12T11:39:33.742963      ACC733052        ACC377370   \n",
              "3        T100003  2023-10-10T06:04:43.195112      ACC996865        ACC344098   \n",
              "4        T100004  2023-09-24T08:09:02.700162      ACC584714        ACC497887   \n",
              "\n",
              "    amount transaction_type merchant_category location device_used  is_fraud  \\\n",
              "0   343.78       withdrawal         utilities    Tokyo      mobile     False   \n",
              "1   419.65       withdrawal            online  Toronto         atm     False   \n",
              "2  2773.86          deposit             other   London         pos     False   \n",
              "3  1666.22          deposit            online   Sydney         pos     False   \n",
              "4    24.43         transfer         utilities  Toronto      mobile     False   \n",
              "\n",
              "  fraud_type  time_since_last_transaction  spending_deviation_score  \\\n",
              "0        NaN                          NaN                     -0.21   \n",
              "1        NaN                          NaN                     -0.14   \n",
              "2        NaN                          NaN                     -1.78   \n",
              "3        NaN                          NaN                     -0.60   \n",
              "4        NaN                          NaN                      0.79   \n",
              "\n",
              "   velocity_score  geo_anomaly_score payment_channel       ip_address  \\\n",
              "0               3               0.22            card   13.101.214.112   \n",
              "1               7               0.96             ACH    172.52.47.194   \n",
              "2              20               0.89            card     185.98.35.23   \n",
              "3               6               0.37   wire_transfer    107.136.36.87   \n",
              "4              13               0.27             ACH  108.161.108.255   \n",
              "\n",
              "  device_hash  \n",
              "0    D8536477  \n",
              "1    D2622631  \n",
              "2    D4823498  \n",
              "3    D9961380  \n",
              "4    D7637601  "
            ]
          },
          "execution_count": 2,
          "metadata": {},
          "output_type": "execute_result"
        }
      ],
      "source": [
        "data.head()"
      ]
    },
    {
      "cell_type": "code",
      "execution_count": null,
      "id": "WH9nubXwsQL2",
      "metadata": {
        "colab": {
          "base_uri": "https://localhost:8080/"
        },
        "id": "WH9nubXwsQL2",
        "outputId": "0dc78b3b-7cc2-4893-8f97-a2fb94dd0ac4"
      },
      "outputs": [
        {
          "name": "stdout",
          "output_type": "stream",
          "text": [
            "<class 'pandas.core.frame.DataFrame'>\n",
            "RangeIndex: 5000000 entries, 0 to 4999999\n",
            "Data columns (total 18 columns):\n",
            " #   Column                       Dtype  \n",
            "---  ------                       -----  \n",
            " 0   transaction_id               object \n",
            " 1   timestamp                    object \n",
            " 2   sender_account               object \n",
            " 3   receiver_account             object \n",
            " 4   amount                       float64\n",
            " 5   transaction_type             object \n",
            " 6   merchant_category            object \n",
            " 7   location                     object \n",
            " 8   device_used                  object \n",
            " 9   is_fraud                     bool   \n",
            " 10  fraud_type                   object \n",
            " 11  time_since_last_transaction  float64\n",
            " 12  spending_deviation_score     float64\n",
            " 13  velocity_score               int64  \n",
            " 14  geo_anomaly_score            float64\n",
            " 15  payment_channel              object \n",
            " 16  ip_address                   object \n",
            " 17  device_hash                  object \n",
            "dtypes: bool(1), float64(4), int64(1), object(12)\n",
            "memory usage: 653.3+ MB\n"
          ]
        }
      ],
      "source": [
        "data.info()"
      ]
    },
    {
      "cell_type": "code",
      "execution_count": null,
      "id": "1mXjtZj9sM5d",
      "metadata": {
        "id": "1mXjtZj9sM5d"
      },
      "outputs": [],
      "source": []
    },
    {
      "cell_type": "code",
      "execution_count": null,
      "id": "5e47abf8",
      "metadata": {
        "colab": {
          "base_uri": "https://localhost:8080/"
        },
        "id": "5e47abf8",
        "outputId": "a326a7fd-3cf7-4fb5-ba79-919cdfaea7ed"
      },
      "outputs": [
        {
          "data": {
            "text/plain": [
              "18"
            ]
          },
          "execution_count": 10,
          "metadata": {},
          "output_type": "execute_result"
        }
      ],
      "source": [
        "len(data.columns)"
      ]
    },
    {
      "cell_type": "markdown",
      "id": "2406f491",
      "metadata": {
        "id": "2406f491"
      },
      "source": [
        "Select main features to be used for fraud detection , igroning ids (at least for now ),timestamp ,fraud_type (to focus on is fraud or not in target)"
      ]
    },
    {
      "cell_type": "code",
      "execution_count": 16,
      "id": "1e41bc7c",
      "metadata": {
        "id": "1e41bc7c"
      },
      "outputs": [],
      "source": [
        "X = data[['amount', 'transaction_type', 'merchant_category', 'location',\n",
        "       'device_used', 'time_since_last_transaction',\n",
        "       'spending_deviation_score', 'velocity_score', 'geo_anomaly_score',\n",
        "       'payment_channel', 'ip_address', 'device_hash']].copy()\n",
        "y= data[['is_fraud']]#'fraud_type'"
      ]
    },
    {
      "cell_type": "code",
      "execution_count": 4,
      "id": "0c051270",
      "metadata": {
        "colab": {
          "base_uri": "https://localhost:8080/"
        },
        "id": "0c051270",
        "outputId": "d86141f7-445f-41f3-dedb-f9f326253c72"
      },
      "outputs": [
        {
          "data": {
            "text/plain": [
              "5000000"
            ]
          },
          "execution_count": 4,
          "metadata": {},
          "output_type": "execute_result"
        }
      ],
      "source": [
        "len(X)"
      ]
    },
    {
      "cell_type": "code",
      "execution_count": 5,
      "id": "81d77d1f",
      "metadata": {
        "colab": {
          "base_uri": "https://localhost:8080/",
          "height": 460
        },
        "id": "81d77d1f",
        "outputId": "89f92e5c-76e7-402e-a904-815d70d49e3d"
      },
      "outputs": [
        {
          "data": {
            "text/plain": [
              "amount                         5000000\n",
              "transaction_type               5000000\n",
              "merchant_category              5000000\n",
              "location                       5000000\n",
              "device_used                    5000000\n",
              "time_since_last_transaction    4103487\n",
              "spending_deviation_score       5000000\n",
              "velocity_score                 5000000\n",
              "geo_anomaly_score              5000000\n",
              "payment_channel                5000000\n",
              "ip_address                     5000000\n",
              "device_hash                    5000000\n",
              "dtype: int64"
            ]
          },
          "execution_count": 5,
          "metadata": {},
          "output_type": "execute_result"
        }
      ],
      "source": [
        "X.notnull().sum()"
      ]
    },
    {
      "cell_type": "markdown",
      "id": "6f4bd730",
      "metadata": {
        "id": "6f4bd730"
      },
      "source": [
        "Non nulls ,except in time_since_last_transaction , for this it may be as first transaction ,so we can replace by -1"
      ]
    },
    {
      "cell_type": "code",
      "execution_count": 17,
      "id": "02c0b98d",
      "metadata": {
        "id": "02c0b98d"
      },
      "outputs": [],
      "source": [
        "X.loc[:, 'time_since_last_transaction'] = X['time_since_last_transaction'].fillna(-1) #no last history\n"
      ]
    },
    {
      "cell_type": "code",
      "execution_count": 18,
      "id": "964937ff",
      "metadata": {
        "colab": {
          "base_uri": "https://localhost:8080/",
          "height": 460
        },
        "id": "964937ff",
        "outputId": "ba7fddd2-8ec1-4172-f645-17e7732e6b25"
      },
      "outputs": [
        {
          "data": {
            "text/plain": [
              "amount                         5000000\n",
              "transaction_type               5000000\n",
              "merchant_category              5000000\n",
              "location                       5000000\n",
              "device_used                    5000000\n",
              "time_since_last_transaction    5000000\n",
              "spending_deviation_score       5000000\n",
              "velocity_score                 5000000\n",
              "geo_anomaly_score              5000000\n",
              "payment_channel                5000000\n",
              "ip_address                     5000000\n",
              "device_hash                    5000000\n",
              "dtype: int64"
            ]
          },
          "execution_count": 18,
          "metadata": {},
          "output_type": "execute_result"
        }
      ],
      "source": [
        "X.notnull().sum()"
      ]
    },
    {
      "cell_type": "code",
      "execution_count": null,
      "id": "463c4013",
      "metadata": {
        "colab": {
          "base_uri": "https://localhost:8080/",
          "height": 300
        },
        "id": "463c4013",
        "outputId": "ea59b22c-5f5f-4472-f995-869f4b20f26e"
      },
      "outputs": [
        {
          "data": {
            "application/vnd.google.colaboratory.intrinsic+json": {
              "summary": "{\n  \"name\": \"X\",\n  \"rows\": 8,\n  \"fields\": [\n    {\n      \"column\": \"amount\",\n      \"properties\": {\n        \"dtype\": \"number\",\n        \"std\": 1767513.857197036,\n        \"min\": 0.01,\n        \"max\": 5000000.0,\n        \"num_unique_values\": 8,\n        \"samples\": [\n          358.93426876399997,\n          138.67,\n          5000000.0\n        ],\n        \"semantic_type\": \"\",\n        \"description\": \"\"\n      }\n    },\n    {\n      \"column\": \"time_since_last_transaction\",\n      \"properties\": {\n        \"dtype\": \"number\",\n        \"std\": 1767611.010493306,\n        \"min\": -8777.814181944444,\n        \"max\": 5000000.0,\n        \"num_unique_values\": 8,\n        \"samples\": [\n          1.072916578059168,\n          -1.0,\n          5000000.0\n        ],\n        \"semantic_type\": \"\",\n        \"description\": \"\"\n      }\n    },\n    {\n      \"column\": \"spending_deviation_score\",\n      \"properties\": {\n        \"dtype\": \"number\",\n        \"std\": 1767766.915066703,\n        \"min\": -5.26,\n        \"max\": 5000000.0,\n        \"num_unique_values\": 8,\n        \"samples\": [\n          -0.00038811600000000014,\n          0.0,\n          5000000.0\n        ],\n        \"semantic_type\": \"\",\n        \"description\": \"\"\n      }\n    },\n    {\n      \"column\": \"velocity_score\",\n      \"properties\": {\n        \"dtype\": \"number\",\n        \"std\": 1767763.4544064116,\n        \"min\": 1.0,\n        \"max\": 5000000.0,\n        \"num_unique_values\": 8,\n        \"samples\": [\n          10.5013196,\n          11.0,\n          5000000.0\n        ],\n        \"semantic_type\": \"\",\n        \"description\": \"\"\n      }\n    },\n    {\n      \"column\": \"geo_anomaly_score\",\n      \"properties\": {\n        \"dtype\": \"number\",\n        \"std\": 1767766.7868637706,\n        \"min\": 0.0,\n        \"max\": 5000000.0,\n        \"num_unique_values\": 8,\n        \"samples\": [\n          0.5000292560000003,\n          0.5,\n          5000000.0\n        ],\n        \"semantic_type\": \"\",\n        \"description\": \"\"\n      }\n    }\n  ]\n}",
              "type": "dataframe"
            },
            "text/html": [
              "\n",
              "  <div id=\"df-ed91af8f-5421-445c-8463-4c0287c4a67f\" class=\"colab-df-container\">\n",
              "    <div>\n",
              "<style scoped>\n",
              "    .dataframe tbody tr th:only-of-type {\n",
              "        vertical-align: middle;\n",
              "    }\n",
              "\n",
              "    .dataframe tbody tr th {\n",
              "        vertical-align: top;\n",
              "    }\n",
              "\n",
              "    .dataframe thead th {\n",
              "        text-align: right;\n",
              "    }\n",
              "</style>\n",
              "<table border=\"1\" class=\"dataframe\">\n",
              "  <thead>\n",
              "    <tr style=\"text-align: right;\">\n",
              "      <th></th>\n",
              "      <th>amount</th>\n",
              "      <th>time_since_last_transaction</th>\n",
              "      <th>spending_deviation_score</th>\n",
              "      <th>velocity_score</th>\n",
              "      <th>geo_anomaly_score</th>\n",
              "    </tr>\n",
              "  </thead>\n",
              "  <tbody>\n",
              "    <tr>\n",
              "      <th>count</th>\n",
              "      <td>5.000000e+06</td>\n",
              "      <td>5.000000e+06</td>\n",
              "      <td>5.000000e+06</td>\n",
              "      <td>5.000000e+06</td>\n",
              "      <td>5.000000e+06</td>\n",
              "    </tr>\n",
              "    <tr>\n",
              "      <th>mean</th>\n",
              "      <td>3.589343e+02</td>\n",
              "      <td>1.072917e+00</td>\n",
              "      <td>-3.881160e-04</td>\n",
              "      <td>1.050132e+01</td>\n",
              "      <td>5.000293e-01</td>\n",
              "    </tr>\n",
              "    <tr>\n",
              "      <th>std</th>\n",
              "      <td>4.699333e+02</td>\n",
              "      <td>3.240098e+03</td>\n",
              "      <td>1.000807e+00</td>\n",
              "      <td>5.766842e+00</td>\n",
              "      <td>2.886349e-01</td>\n",
              "    </tr>\n",
              "    <tr>\n",
              "      <th>min</th>\n",
              "      <td>1.000000e-02</td>\n",
              "      <td>-8.777814e+03</td>\n",
              "      <td>-5.260000e+00</td>\n",
              "      <td>1.000000e+00</td>\n",
              "      <td>0.000000e+00</td>\n",
              "    </tr>\n",
              "    <tr>\n",
              "      <th>25%</th>\n",
              "      <td>2.657000e+01</td>\n",
              "      <td>-1.920275e+03</td>\n",
              "      <td>-6.800000e-01</td>\n",
              "      <td>5.000000e+00</td>\n",
              "      <td>2.500000e-01</td>\n",
              "    </tr>\n",
              "    <tr>\n",
              "      <th>50%</th>\n",
              "      <td>1.386700e+02</td>\n",
              "      <td>-1.000000e+00</td>\n",
              "      <td>0.000000e+00</td>\n",
              "      <td>1.100000e+01</td>\n",
              "      <td>5.000000e-01</td>\n",
              "    </tr>\n",
              "    <tr>\n",
              "      <th>75%</th>\n",
              "      <td>5.038900e+02</td>\n",
              "      <td>1.923796e+03</td>\n",
              "      <td>6.700000e-01</td>\n",
              "      <td>1.600000e+01</td>\n",
              "      <td>7.500000e-01</td>\n",
              "    </tr>\n",
              "    <tr>\n",
              "      <th>max</th>\n",
              "      <td>3.520570e+03</td>\n",
              "      <td>8.757758e+03</td>\n",
              "      <td>5.020000e+00</td>\n",
              "      <td>2.000000e+01</td>\n",
              "      <td>1.000000e+00</td>\n",
              "    </tr>\n",
              "  </tbody>\n",
              "</table>\n",
              "</div>\n",
              "    <div class=\"colab-df-buttons\">\n",
              "\n",
              "  <div class=\"colab-df-container\">\n",
              "    <button class=\"colab-df-convert\" onclick=\"convertToInteractive('df-ed91af8f-5421-445c-8463-4c0287c4a67f')\"\n",
              "            title=\"Convert this dataframe to an interactive table.\"\n",
              "            style=\"display:none;\">\n",
              "\n",
              "  <svg xmlns=\"http://www.w3.org/2000/svg\" height=\"24px\" viewBox=\"0 -960 960 960\">\n",
              "    <path d=\"M120-120v-720h720v720H120Zm60-500h600v-160H180v160Zm220 220h160v-160H400v160Zm0 220h160v-160H400v160ZM180-400h160v-160H180v160Zm440 0h160v-160H620v160ZM180-180h160v-160H180v160Zm440 0h160v-160H620v160Z\"/>\n",
              "  </svg>\n",
              "    </button>\n",
              "\n",
              "  <style>\n",
              "    .colab-df-container {\n",
              "      display:flex;\n",
              "      gap: 12px;\n",
              "    }\n",
              "\n",
              "    .colab-df-convert {\n",
              "      background-color: #E8F0FE;\n",
              "      border: none;\n",
              "      border-radius: 50%;\n",
              "      cursor: pointer;\n",
              "      display: none;\n",
              "      fill: #1967D2;\n",
              "      height: 32px;\n",
              "      padding: 0 0 0 0;\n",
              "      width: 32px;\n",
              "    }\n",
              "\n",
              "    .colab-df-convert:hover {\n",
              "      background-color: #E2EBFA;\n",
              "      box-shadow: 0px 1px 2px rgba(60, 64, 67, 0.3), 0px 1px 3px 1px rgba(60, 64, 67, 0.15);\n",
              "      fill: #174EA6;\n",
              "    }\n",
              "\n",
              "    .colab-df-buttons div {\n",
              "      margin-bottom: 4px;\n",
              "    }\n",
              "\n",
              "    [theme=dark] .colab-df-convert {\n",
              "      background-color: #3B4455;\n",
              "      fill: #D2E3FC;\n",
              "    }\n",
              "\n",
              "    [theme=dark] .colab-df-convert:hover {\n",
              "      background-color: #434B5C;\n",
              "      box-shadow: 0px 1px 3px 1px rgba(0, 0, 0, 0.15);\n",
              "      filter: drop-shadow(0px 1px 2px rgba(0, 0, 0, 0.3));\n",
              "      fill: #FFFFFF;\n",
              "    }\n",
              "  </style>\n",
              "\n",
              "    <script>\n",
              "      const buttonEl =\n",
              "        document.querySelector('#df-ed91af8f-5421-445c-8463-4c0287c4a67f button.colab-df-convert');\n",
              "      buttonEl.style.display =\n",
              "        google.colab.kernel.accessAllowed ? 'block' : 'none';\n",
              "\n",
              "      async function convertToInteractive(key) {\n",
              "        const element = document.querySelector('#df-ed91af8f-5421-445c-8463-4c0287c4a67f');\n",
              "        const dataTable =\n",
              "          await google.colab.kernel.invokeFunction('convertToInteractive',\n",
              "                                                    [key], {});\n",
              "        if (!dataTable) return;\n",
              "\n",
              "        const docLinkHtml = 'Like what you see? Visit the ' +\n",
              "          '<a target=\"_blank\" href=https://colab.research.google.com/notebooks/data_table.ipynb>data table notebook</a>'\n",
              "          + ' to learn more about interactive tables.';\n",
              "        element.innerHTML = '';\n",
              "        dataTable['output_type'] = 'display_data';\n",
              "        await google.colab.output.renderOutput(dataTable, element);\n",
              "        const docLink = document.createElement('div');\n",
              "        docLink.innerHTML = docLinkHtml;\n",
              "        element.appendChild(docLink);\n",
              "      }\n",
              "    </script>\n",
              "  </div>\n",
              "\n",
              "\n",
              "    <div id=\"df-ed1a20d6-b321-46b7-9139-ad8b7bdba275\">\n",
              "      <button class=\"colab-df-quickchart\" onclick=\"quickchart('df-ed1a20d6-b321-46b7-9139-ad8b7bdba275')\"\n",
              "                title=\"Suggest charts\"\n",
              "                style=\"display:none;\">\n",
              "\n",
              "<svg xmlns=\"http://www.w3.org/2000/svg\" height=\"24px\"viewBox=\"0 0 24 24\"\n",
              "     width=\"24px\">\n",
              "    <g>\n",
              "        <path d=\"M19 3H5c-1.1 0-2 .9-2 2v14c0 1.1.9 2 2 2h14c1.1 0 2-.9 2-2V5c0-1.1-.9-2-2-2zM9 17H7v-7h2v7zm4 0h-2V7h2v10zm4 0h-2v-4h2v4z\"/>\n",
              "    </g>\n",
              "</svg>\n",
              "      </button>\n",
              "\n",
              "<style>\n",
              "  .colab-df-quickchart {\n",
              "      --bg-color: #E8F0FE;\n",
              "      --fill-color: #1967D2;\n",
              "      --hover-bg-color: #E2EBFA;\n",
              "      --hover-fill-color: #174EA6;\n",
              "      --disabled-fill-color: #AAA;\n",
              "      --disabled-bg-color: #DDD;\n",
              "  }\n",
              "\n",
              "  [theme=dark] .colab-df-quickchart {\n",
              "      --bg-color: #3B4455;\n",
              "      --fill-color: #D2E3FC;\n",
              "      --hover-bg-color: #434B5C;\n",
              "      --hover-fill-color: #FFFFFF;\n",
              "      --disabled-bg-color: #3B4455;\n",
              "      --disabled-fill-color: #666;\n",
              "  }\n",
              "\n",
              "  .colab-df-quickchart {\n",
              "    background-color: var(--bg-color);\n",
              "    border: none;\n",
              "    border-radius: 50%;\n",
              "    cursor: pointer;\n",
              "    display: none;\n",
              "    fill: var(--fill-color);\n",
              "    height: 32px;\n",
              "    padding: 0;\n",
              "    width: 32px;\n",
              "  }\n",
              "\n",
              "  .colab-df-quickchart:hover {\n",
              "    background-color: var(--hover-bg-color);\n",
              "    box-shadow: 0 1px 2px rgba(60, 64, 67, 0.3), 0 1px 3px 1px rgba(60, 64, 67, 0.15);\n",
              "    fill: var(--button-hover-fill-color);\n",
              "  }\n",
              "\n",
              "  .colab-df-quickchart-complete:disabled,\n",
              "  .colab-df-quickchart-complete:disabled:hover {\n",
              "    background-color: var(--disabled-bg-color);\n",
              "    fill: var(--disabled-fill-color);\n",
              "    box-shadow: none;\n",
              "  }\n",
              "\n",
              "  .colab-df-spinner {\n",
              "    border: 2px solid var(--fill-color);\n",
              "    border-color: transparent;\n",
              "    border-bottom-color: var(--fill-color);\n",
              "    animation:\n",
              "      spin 1s steps(1) infinite;\n",
              "  }\n",
              "\n",
              "  @keyframes spin {\n",
              "    0% {\n",
              "      border-color: transparent;\n",
              "      border-bottom-color: var(--fill-color);\n",
              "      border-left-color: var(--fill-color);\n",
              "    }\n",
              "    20% {\n",
              "      border-color: transparent;\n",
              "      border-left-color: var(--fill-color);\n",
              "      border-top-color: var(--fill-color);\n",
              "    }\n",
              "    30% {\n",
              "      border-color: transparent;\n",
              "      border-left-color: var(--fill-color);\n",
              "      border-top-color: var(--fill-color);\n",
              "      border-right-color: var(--fill-color);\n",
              "    }\n",
              "    40% {\n",
              "      border-color: transparent;\n",
              "      border-right-color: var(--fill-color);\n",
              "      border-top-color: var(--fill-color);\n",
              "    }\n",
              "    60% {\n",
              "      border-color: transparent;\n",
              "      border-right-color: var(--fill-color);\n",
              "    }\n",
              "    80% {\n",
              "      border-color: transparent;\n",
              "      border-right-color: var(--fill-color);\n",
              "      border-bottom-color: var(--fill-color);\n",
              "    }\n",
              "    90% {\n",
              "      border-color: transparent;\n",
              "      border-bottom-color: var(--fill-color);\n",
              "    }\n",
              "  }\n",
              "</style>\n",
              "\n",
              "      <script>\n",
              "        async function quickchart(key) {\n",
              "          const quickchartButtonEl =\n",
              "            document.querySelector('#' + key + ' button');\n",
              "          quickchartButtonEl.disabled = true;  // To prevent multiple clicks.\n",
              "          quickchartButtonEl.classList.add('colab-df-spinner');\n",
              "          try {\n",
              "            const charts = await google.colab.kernel.invokeFunction(\n",
              "                'suggestCharts', [key], {});\n",
              "          } catch (error) {\n",
              "            console.error('Error during call to suggestCharts:', error);\n",
              "          }\n",
              "          quickchartButtonEl.classList.remove('colab-df-spinner');\n",
              "          quickchartButtonEl.classList.add('colab-df-quickchart-complete');\n",
              "        }\n",
              "        (() => {\n",
              "          let quickchartButtonEl =\n",
              "            document.querySelector('#df-ed1a20d6-b321-46b7-9139-ad8b7bdba275 button');\n",
              "          quickchartButtonEl.style.display =\n",
              "            google.colab.kernel.accessAllowed ? 'block' : 'none';\n",
              "        })();\n",
              "      </script>\n",
              "    </div>\n",
              "\n",
              "    </div>\n",
              "  </div>\n"
            ],
            "text/plain": [
              "             amount  time_since_last_transaction  spending_deviation_score  \\\n",
              "count  5.000000e+06                 5.000000e+06              5.000000e+06   \n",
              "mean   3.589343e+02                 1.072917e+00             -3.881160e-04   \n",
              "std    4.699333e+02                 3.240098e+03              1.000807e+00   \n",
              "min    1.000000e-02                -8.777814e+03             -5.260000e+00   \n",
              "25%    2.657000e+01                -1.920275e+03             -6.800000e-01   \n",
              "50%    1.386700e+02                -1.000000e+00              0.000000e+00   \n",
              "75%    5.038900e+02                 1.923796e+03              6.700000e-01   \n",
              "max    3.520570e+03                 8.757758e+03              5.020000e+00   \n",
              "\n",
              "       velocity_score  geo_anomaly_score  \n",
              "count    5.000000e+06       5.000000e+06  \n",
              "mean     1.050132e+01       5.000293e-01  \n",
              "std      5.766842e+00       2.886349e-01  \n",
              "min      1.000000e+00       0.000000e+00  \n",
              "25%      5.000000e+00       2.500000e-01  \n",
              "50%      1.100000e+01       5.000000e-01  \n",
              "75%      1.600000e+01       7.500000e-01  \n",
              "max      2.000000e+01       1.000000e+00  "
            ]
          },
          "execution_count": 16,
          "metadata": {},
          "output_type": "execute_result"
        }
      ],
      "source": [
        "X.describe()"
      ]
    },
    {
      "cell_type": "code",
      "execution_count": 19,
      "id": "f513d541",
      "metadata": {
        "colab": {
          "base_uri": "https://localhost:8080/"
        },
        "id": "f513d541",
        "outputId": "b51c2ef7-deca-4763-979d-23be34d53dd4"
      },
      "outputs": [
        {
          "name": "stdout",
          "output_type": "stream",
          "text": [
            "<class 'pandas.core.frame.DataFrame'>\n",
            "RangeIndex: 5000000 entries, 0 to 4999999\n",
            "Data columns (total 12 columns):\n",
            " #   Column                       Dtype  \n",
            "---  ------                       -----  \n",
            " 0   amount                       float64\n",
            " 1   transaction_type             object \n",
            " 2   merchant_category            object \n",
            " 3   location                     object \n",
            " 4   device_used                  object \n",
            " 5   time_since_last_transaction  float64\n",
            " 6   spending_deviation_score     float64\n",
            " 7   velocity_score               int64  \n",
            " 8   geo_anomaly_score            float64\n",
            " 9   payment_channel              object \n",
            " 10  ip_address                   object \n",
            " 11  device_hash                  object \n",
            "dtypes: float64(4), int64(1), object(7)\n",
            "memory usage: 457.8+ MB\n"
          ]
        }
      ],
      "source": [
        "X.info()"
      ]
    },
    {
      "cell_type": "code",
      "execution_count": null,
      "id": "31157f4e",
      "metadata": {
        "colab": {
          "base_uri": "https://localhost:8080/",
          "height": 178
        },
        "id": "31157f4e",
        "outputId": "a75bcccf-a705-4146-a0d1-3750dc242ad3"
      },
      "outputs": [
        {
          "data": {
            "text/html": [
              "<div>\n",
              "<style scoped>\n",
              "    .dataframe tbody tr th:only-of-type {\n",
              "        vertical-align: middle;\n",
              "    }\n",
              "\n",
              "    .dataframe tbody tr th {\n",
              "        vertical-align: top;\n",
              "    }\n",
              "\n",
              "    .dataframe thead th {\n",
              "        text-align: right;\n",
              "    }\n",
              "</style>\n",
              "<table border=\"1\" class=\"dataframe\">\n",
              "  <thead>\n",
              "    <tr style=\"text-align: right;\">\n",
              "      <th></th>\n",
              "      <th>count</th>\n",
              "    </tr>\n",
              "    <tr>\n",
              "      <th>is_fraud</th>\n",
              "      <th></th>\n",
              "    </tr>\n",
              "  </thead>\n",
              "  <tbody>\n",
              "    <tr>\n",
              "      <th>False</th>\n",
              "      <td>4820447</td>\n",
              "    </tr>\n",
              "    <tr>\n",
              "      <th>True</th>\n",
              "      <td>179553</td>\n",
              "    </tr>\n",
              "  </tbody>\n",
              "</table>\n",
              "</div><br><label><b>dtype:</b> int64</label>"
            ],
            "text/plain": [
              "is_fraud\n",
              "False       4820447\n",
              "True         179553\n",
              "Name: count, dtype: int64"
            ]
          },
          "execution_count": 18,
          "metadata": {},
          "output_type": "execute_result"
        }
      ],
      "source": [
        "y.value_counts()"
      ]
    },
    {
      "cell_type": "markdown",
      "id": "ad6de869",
      "metadata": {
        "id": "ad6de869"
      },
      "source": [
        "**So data is imbalanced so need some consideration in analysis and using model**"
      ]
    },
    {
      "cell_type": "markdown",
      "id": "1f17671b",
      "metadata": {
        "id": "1f17671b"
      },
      "source": [
        "## Preprocess Data"
      ]
    },
    {
      "cell_type": "markdown",
      "id": "d6361800",
      "metadata": {
        "id": "d6361800"
      },
      "source": [
        "- Encode categorical colmuns to be used in gaussian naive bayes\n",
        "- Note Encoding here is suitable for this offline training only (can not be saved for later loading)"
      ]
    },
    {
      "cell_type": "code",
      "execution_count": 20,
      "id": "daf017e9",
      "metadata": {
        "id": "daf017e9"
      },
      "outputs": [],
      "source": [
        "## Encode\n",
        "from sklearn.preprocessing import LabelEncoder\n",
        "categorical_cols = ['transaction_type', 'merchant_category', 'location',\n",
        "       'device_used', 'payment_channel', 'ip_address', 'device_hash']\n",
        "le = LabelEncoder()\n",
        "\n",
        "\n",
        "for col in categorical_cols:\n",
        "    X[col] = le.fit_transform(X[col])\n",
        "\n"
      ]
    },
    {
      "cell_type": "code",
      "execution_count": null,
      "id": "9639aabe",
      "metadata": {},
      "outputs": [],
      "source": []
    },
    {
      "cell_type": "code",
      "execution_count": 21,
      "id": "27fbaaac",
      "metadata": {
        "colab": {
          "base_uri": "https://localhost:8080/",
          "height": 226
        },
        "id": "27fbaaac",
        "outputId": "9cb79d27-4bf9-40b4-86d3-7f60b9d63a26"
      },
      "outputs": [
        {
          "data": {
            "text/html": [
              "<div>\n",
              "<style scoped>\n",
              "    .dataframe tbody tr th:only-of-type {\n",
              "        vertical-align: middle;\n",
              "    }\n",
              "\n",
              "    .dataframe tbody tr th {\n",
              "        vertical-align: top;\n",
              "    }\n",
              "\n",
              "    .dataframe thead th {\n",
              "        text-align: right;\n",
              "    }\n",
              "</style>\n",
              "<table border=\"1\" class=\"dataframe\">\n",
              "  <thead>\n",
              "    <tr style=\"text-align: right;\">\n",
              "      <th></th>\n",
              "      <th>amount</th>\n",
              "      <th>transaction_type</th>\n",
              "      <th>merchant_category</th>\n",
              "      <th>location</th>\n",
              "      <th>device_used</th>\n",
              "      <th>time_since_last_transaction</th>\n",
              "      <th>spending_deviation_score</th>\n",
              "      <th>velocity_score</th>\n",
              "      <th>geo_anomaly_score</th>\n",
              "      <th>payment_channel</th>\n",
              "      <th>ip_address</th>\n",
              "      <th>device_hash</th>\n",
              "    </tr>\n",
              "  </thead>\n",
              "  <tbody>\n",
              "    <tr>\n",
              "      <th>0</th>\n",
              "      <td>343.78</td>\n",
              "      <td>3</td>\n",
              "      <td>7</td>\n",
              "      <td>6</td>\n",
              "      <td>1</td>\n",
              "      <td>-1.0</td>\n",
              "      <td>-0.21</td>\n",
              "      <td>3</td>\n",
              "      <td>0.22</td>\n",
              "      <td>2</td>\n",
              "      <td>684409</td>\n",
              "      <td>3212380</td>\n",
              "    </tr>\n",
              "    <tr>\n",
              "      <th>1</th>\n",
              "      <td>419.65</td>\n",
              "      <td>3</td>\n",
              "      <td>2</td>\n",
              "      <td>7</td>\n",
              "      <td>0</td>\n",
              "      <td>-1.0</td>\n",
              "      <td>-0.14</td>\n",
              "      <td>7</td>\n",
              "      <td>0.96</td>\n",
              "      <td>0</td>\n",
              "      <td>1616508</td>\n",
              "      <td>691787</td>\n",
              "    </tr>\n",
              "    <tr>\n",
              "      <th>2</th>\n",
              "      <td>2773.86</td>\n",
              "      <td>0</td>\n",
              "      <td>3</td>\n",
              "      <td>2</td>\n",
              "      <td>2</td>\n",
              "      <td>-1.0</td>\n",
              "      <td>-1.78</td>\n",
              "      <td>20</td>\n",
              "      <td>0.89</td>\n",
              "      <td>2</td>\n",
              "      <td>1893332</td>\n",
              "      <td>1629699</td>\n",
              "    </tr>\n",
              "    <tr>\n",
              "      <th>3</th>\n",
              "      <td>1666.22</td>\n",
              "      <td>0</td>\n",
              "      <td>2</td>\n",
              "      <td>5</td>\n",
              "      <td>2</td>\n",
              "      <td>-1.0</td>\n",
              "      <td>-0.60</td>\n",
              "      <td>6</td>\n",
              "      <td>0.37</td>\n",
              "      <td>3</td>\n",
              "      <td>198681</td>\n",
              "      <td>3819233</td>\n",
              "    </tr>\n",
              "    <tr>\n",
              "      <th>4</th>\n",
              "      <td>24.43</td>\n",
              "      <td>2</td>\n",
              "      <td>7</td>\n",
              "      <td>7</td>\n",
              "      <td>1</td>\n",
              "      <td>-1.0</td>\n",
              "      <td>0.79</td>\n",
              "      <td>13</td>\n",
              "      <td>0.27</td>\n",
              "      <td>0</td>\n",
              "      <td>220250</td>\n",
              "      <td>2829128</td>\n",
              "    </tr>\n",
              "  </tbody>\n",
              "</table>\n",
              "</div>"
            ],
            "text/plain": [
              "    amount  transaction_type  merchant_category  location  device_used  \\\n",
              "0   343.78                 3                  7         6            1   \n",
              "1   419.65                 3                  2         7            0   \n",
              "2  2773.86                 0                  3         2            2   \n",
              "3  1666.22                 0                  2         5            2   \n",
              "4    24.43                 2                  7         7            1   \n",
              "\n",
              "   time_since_last_transaction  spending_deviation_score  velocity_score  \\\n",
              "0                         -1.0                     -0.21               3   \n",
              "1                         -1.0                     -0.14               7   \n",
              "2                         -1.0                     -1.78              20   \n",
              "3                         -1.0                     -0.60               6   \n",
              "4                         -1.0                      0.79              13   \n",
              "\n",
              "   geo_anomaly_score  payment_channel  ip_address  device_hash  \n",
              "0               0.22                2      684409      3212380  \n",
              "1               0.96                0     1616508       691787  \n",
              "2               0.89                2     1893332      1629699  \n",
              "3               0.37                3      198681      3819233  \n",
              "4               0.27                0      220250      2829128  "
            ]
          },
          "execution_count": 21,
          "metadata": {},
          "output_type": "execute_result"
        }
      ],
      "source": [
        "X.head(5)"
      ]
    },
    {
      "cell_type": "markdown",
      "id": "29045460",
      "metadata": {
        "id": "29045460"
      },
      "source": [
        "Normalize other numerical features"
      ]
    },
    {
      "cell_type": "code",
      "execution_count": 22,
      "id": "03dcbcf9",
      "metadata": {
        "id": "03dcbcf9"
      },
      "outputs": [],
      "source": [
        "## Normalize\n",
        "from sklearn.preprocessing import StandardScaler\n",
        "\n",
        "# List of numeric columns (example — adjust to your dataset)\n",
        "numeric_cols = ['amount', 'time_since_last_transaction', 'spending_deviation_score',\n",
        "                'velocity_score', 'geo_anomaly_score']\n",
        "\n",
        "# Create a scaler instance\n",
        "scaler = StandardScaler()\n",
        "\n",
        "# Fit and transform\n",
        "X[numeric_cols] = scaler.fit_transform(X[numeric_cols])\n"
      ]
    },
    {
      "cell_type": "code",
      "execution_count": 23,
      "id": "601c8810",
      "metadata": {
        "colab": {
          "base_uri": "https://localhost:8080/",
          "height": 226
        },
        "id": "601c8810",
        "outputId": "2f5eaa3f-2c68-4eb8-e0bf-98256baaa11f"
      },
      "outputs": [
        {
          "data": {
            "text/html": [
              "<div>\n",
              "<style scoped>\n",
              "    .dataframe tbody tr th:only-of-type {\n",
              "        vertical-align: middle;\n",
              "    }\n",
              "\n",
              "    .dataframe tbody tr th {\n",
              "        vertical-align: top;\n",
              "    }\n",
              "\n",
              "    .dataframe thead th {\n",
              "        text-align: right;\n",
              "    }\n",
              "</style>\n",
              "<table border=\"1\" class=\"dataframe\">\n",
              "  <thead>\n",
              "    <tr style=\"text-align: right;\">\n",
              "      <th></th>\n",
              "      <th>amount</th>\n",
              "      <th>transaction_type</th>\n",
              "      <th>merchant_category</th>\n",
              "      <th>location</th>\n",
              "      <th>device_used</th>\n",
              "      <th>time_since_last_transaction</th>\n",
              "      <th>spending_deviation_score</th>\n",
              "      <th>velocity_score</th>\n",
              "      <th>geo_anomaly_score</th>\n",
              "      <th>payment_channel</th>\n",
              "      <th>ip_address</th>\n",
              "      <th>device_hash</th>\n",
              "    </tr>\n",
              "  </thead>\n",
              "  <tbody>\n",
              "    <tr>\n",
              "      <th>0</th>\n",
              "      <td>-0.032248</td>\n",
              "      <td>3</td>\n",
              "      <td>7</td>\n",
              "      <td>6</td>\n",
              "      <td>1</td>\n",
              "      <td>-0.00064</td>\n",
              "      <td>-0.209443</td>\n",
              "      <td>-1.300767</td>\n",
              "      <td>-0.970185</td>\n",
              "      <td>2</td>\n",
              "      <td>684409</td>\n",
              "      <td>3212380</td>\n",
              "    </tr>\n",
              "    <tr>\n",
              "      <th>1</th>\n",
              "      <td>0.129201</td>\n",
              "      <td>3</td>\n",
              "      <td>2</td>\n",
              "      <td>7</td>\n",
              "      <td>0</td>\n",
              "      <td>-0.00064</td>\n",
              "      <td>-0.139499</td>\n",
              "      <td>-0.607147</td>\n",
              "      <td>1.593607</td>\n",
              "      <td>0</td>\n",
              "      <td>1616508</td>\n",
              "      <td>691787</td>\n",
              "    </tr>\n",
              "    <tr>\n",
              "      <th>2</th>\n",
              "      <td>5.138870</td>\n",
              "      <td>0</td>\n",
              "      <td>3</td>\n",
              "      <td>2</td>\n",
              "      <td>2</td>\n",
              "      <td>-0.00064</td>\n",
              "      <td>-1.778177</td>\n",
              "      <td>1.647120</td>\n",
              "      <td>1.351087</td>\n",
              "      <td>2</td>\n",
              "      <td>1893332</td>\n",
              "      <td>1629699</td>\n",
              "    </tr>\n",
              "    <tr>\n",
              "      <th>3</th>\n",
              "      <td>2.781854</td>\n",
              "      <td>0</td>\n",
              "      <td>2</td>\n",
              "      <td>5</td>\n",
              "      <td>2</td>\n",
              "      <td>-0.00064</td>\n",
              "      <td>-0.599128</td>\n",
              "      <td>-0.780552</td>\n",
              "      <td>-0.450497</td>\n",
              "      <td>3</td>\n",
              "      <td>198681</td>\n",
              "      <td>3819233</td>\n",
              "    </tr>\n",
              "    <tr>\n",
              "      <th>4</th>\n",
              "      <td>-0.711812</td>\n",
              "      <td>2</td>\n",
              "      <td>7</td>\n",
              "      <td>7</td>\n",
              "      <td>1</td>\n",
              "      <td>-0.00064</td>\n",
              "      <td>0.789751</td>\n",
              "      <td>0.433284</td>\n",
              "      <td>-0.796956</td>\n",
              "      <td>0</td>\n",
              "      <td>220250</td>\n",
              "      <td>2829128</td>\n",
              "    </tr>\n",
              "  </tbody>\n",
              "</table>\n",
              "</div>"
            ],
            "text/plain": [
              "     amount  transaction_type  merchant_category  location  device_used  \\\n",
              "0 -0.032248                 3                  7         6            1   \n",
              "1  0.129201                 3                  2         7            0   \n",
              "2  5.138870                 0                  3         2            2   \n",
              "3  2.781854                 0                  2         5            2   \n",
              "4 -0.711812                 2                  7         7            1   \n",
              "\n",
              "   time_since_last_transaction  spending_deviation_score  velocity_score  \\\n",
              "0                     -0.00064                 -0.209443       -1.300767   \n",
              "1                     -0.00064                 -0.139499       -0.607147   \n",
              "2                     -0.00064                 -1.778177        1.647120   \n",
              "3                     -0.00064                 -0.599128       -0.780552   \n",
              "4                     -0.00064                  0.789751        0.433284   \n",
              "\n",
              "   geo_anomaly_score  payment_channel  ip_address  device_hash  \n",
              "0          -0.970185                2      684409      3212380  \n",
              "1           1.593607                0     1616508       691787  \n",
              "2           1.351087                2     1893332      1629699  \n",
              "3          -0.450497                3      198681      3819233  \n",
              "4          -0.796956                0      220250      2829128  "
            ]
          },
          "execution_count": 23,
          "metadata": {},
          "output_type": "execute_result"
        }
      ],
      "source": [
        "X.head(5)"
      ]
    },
    {
      "cell_type": "code",
      "execution_count": 24,
      "id": "0e52d843",
      "metadata": {
        "id": "0e52d843"
      },
      "outputs": [],
      "source": [
        "y = y.astype(int)"
      ]
    },
    {
      "cell_type": "code",
      "execution_count": 25,
      "id": "4ed41df0",
      "metadata": {},
      "outputs": [],
      "source": [
        "# Combine X and y to work with class-balanced sampling\n",
        "df_under = pd.concat([X, y], axis=1)\n",
        "\n",
        "# Separate majority and minority classes\n",
        "df_majority = df_under[df_under.is_fraud == 0]\n",
        "df_minority = df_under[df_under.is_fraud == 1]\n",
        "\n",
        "# Downsample majority class to match minority class size\n",
        "df_majority_downsampled = df_majority.sample(n=len(df_minority), random_state=42)\n",
        "\n",
        "# Concatenate downsampled majority and full minority\n",
        "df_undersampled = pd.concat([df_majority_downsampled, df_minority])\n",
        "\n",
        "# Shuffle the dataset\n",
        "df_undersampled = df_undersampled.sample(frac=1, random_state=42)\n",
        "\n",
        "# Split features and labels\n",
        "X_under = df_undersampled.drop(\"is_fraud\", axis=1)\n",
        "y_under = df_undersampled[\"is_fraud\"]\n",
        "\n",
        "# Now split into training and test sets (no need to stratify here)\n",
        "X_train, X_test, y_train, y_test = train_test_split(\n",
        "    X_under, y_under, test_size=0.2, random_state=42\n",
        ")\n"
      ]
    },
    {
      "cell_type": "markdown",
      "id": "f3d3c125",
      "metadata": {
        "id": "f3d3c125"
      },
      "source": [
        "## Hyperparameters selection"
      ]
    },
    {
      "cell_type": "markdown",
      "id": "25ee0262",
      "metadata": {
        "id": "25ee0262"
      },
      "source": [
        "As data imbalanced ,we will use gaussian naive bayes , and select hyperparameters by optuna maximizing F Score"
      ]
    },
    {
      "cell_type": "code",
      "execution_count": 7,
      "id": "f83a28b4",
      "metadata": {
        "id": "f83a28b4"
      },
      "outputs": [],
      "source": [
        "\n",
        "import warnings\n",
        "import numpy as np\n",
        "warnings.filterwarnings(\"ignore\")\n"
      ]
    },
    {
      "cell_type": "code",
      "execution_count": 26,
      "id": "71be6b06",
      "metadata": {
        "id": "71be6b06"
      },
      "outputs": [],
      "source": [
        "sample_size = 10000\n",
        "sample_indices = X.sample(n=sample_size, random_state=42).index\n",
        "\n",
        "X_sample = X.loc[sample_indices]\n",
        "y_sample = y.loc[sample_indices]\n",
        "y_sample=np.array(y_sample)"
      ]
    },
    {
      "cell_type": "code",
      "execution_count": null,
      "id": "YUxtIwwTfh_c",
      "metadata": {
        "colab": {
          "base_uri": "https://localhost:8080/"
        },
        "id": "YUxtIwwTfh_c",
        "outputId": "166c7b09-63ea-433c-9590-448473365486"
      },
      "outputs": [
        {
          "name": "stdout",
          "output_type": "stream",
          "text": [
            "Requirement already satisfied: optuna in /usr/local/lib/python3.11/dist-packages (4.3.0)\n",
            "Requirement already satisfied: alembic>=1.5.0 in /usr/local/lib/python3.11/dist-packages (from optuna) (1.15.2)\n",
            "Requirement already satisfied: colorlog in /usr/local/lib/python3.11/dist-packages (from optuna) (6.9.0)\n",
            "Requirement already satisfied: numpy in /usr/local/lib/python3.11/dist-packages (from optuna) (2.0.2)\n",
            "Requirement already satisfied: packaging>=20.0 in /usr/local/lib/python3.11/dist-packages (from optuna) (24.2)\n",
            "Requirement already satisfied: sqlalchemy>=1.4.2 in /usr/local/lib/python3.11/dist-packages (from optuna) (2.0.40)\n",
            "Requirement already satisfied: tqdm in /usr/local/lib/python3.11/dist-packages (from optuna) (4.67.1)\n",
            "Requirement already satisfied: PyYAML in /usr/local/lib/python3.11/dist-packages (from optuna) (6.0.2)\n",
            "Requirement already satisfied: Mako in /usr/lib/python3/dist-packages (from alembic>=1.5.0->optuna) (1.1.3)\n",
            "Requirement already satisfied: typing-extensions>=4.12 in /usr/local/lib/python3.11/dist-packages (from alembic>=1.5.0->optuna) (4.13.2)\n",
            "Requirement already satisfied: greenlet>=1 in /usr/local/lib/python3.11/dist-packages (from sqlalchemy>=1.4.2->optuna) (3.2.1)\n"
          ]
        }
      ],
      "source": [
        "pip install optuna"
      ]
    },
    {
      "cell_type": "code",
      "execution_count": null,
      "id": "3a3eb51c",
      "metadata": {
        "colab": {
          "base_uri": "https://localhost:8080/"
        },
        "id": "3a3eb51c",
        "outputId": "ba7ae964-e838-41ff-8c28-3b542bf85e50"
      },
      "outputs": [],
      "source": [
        "import optuna\n",
        "from sklearn.naive_bayes import GaussianNB\n",
        "from sklearn.model_selection import cross_val_score\n",
        "from sklearn.metrics import f1_score\n",
        "from sklearn.model_selection import train_test_split\n",
        "\n",
        "# Split data\n",
        "#X_train, X_val, y_train, y_val = train_test_split(X_train, y_train, test_size=0.2, random_state=42)\n",
        "y_train = y_train.ravel()\n",
        "y_test = y_test.ravel()\n",
        "\n",
        "def objective(trial):\n",
        "    # Suggest values for the hyperparameters\n",
        "    var_smoothing = trial.suggest_float('var_smoothing', 1e-15, 1e-3, log=True) # smoothing to avoid zero probabilities\n",
        "    prior_a = trial.suggest_float('prior_a', 0.0, .4)\n",
        "    prior_b = 1 - prior_a  # This ensures that the two priors sum to 1\n",
        "\n",
        "\n",
        "\n",
        "    # Initialize the model with the hyperparameters\n",
        "    model_i = GaussianNB(var_smoothing=var_smoothing, priors=[prior_a, prior_b])\n",
        "\n",
        "    # Fit the model\n",
        "    model_i.fit(X_train, y_train)\n",
        "\n",
        "    # Evaluate predictions\n",
        "    y_pred_i = model_i.predict(y_test)\n",
        "\n",
        "    # Return F1-score\n",
        "    return f1_score(y_test, y_pred_i)\n",
        "\n",
        "# Create and optimize the study\n",
        "study = optuna.create_study(direction='maximize')  # Maximize the F1-score\n",
        "study.optimize(objective, n_trials=50)\n",
        "\n",
        "# Best result\n",
        "print(\"Best params:\", study.best_params)\n",
        "print(\"Best F1-score:\", study.best_value)\n"
      ]
    },
    {
      "cell_type": "code",
      "execution_count": null,
      "id": "967162c4",
      "metadata": {
        "colab": {
          "base_uri": "https://localhost:8080/"
        },
        "id": "967162c4",
        "outputId": "dfa2f984-6327-405c-cc1c-4657551f9eba"
      },
      "outputs": [
        {
          "name": "stdout",
          "output_type": "stream",
          "text": [
            "Best params: {'var_smoothing': 8.15674367706995e-15, 'prior_a': 0.3686090108800271}\n",
            "Best F1-score: 0.07267297162767546\n"
          ]
        }
      ],
      "source": [
        "print(\"Best params:\", study.best_params)\n",
        "print(\"Best F1-score:\", study.best_value)"
      ]
    },
    {
      "cell_type": "markdown",
      "id": "48df7ae9",
      "metadata": {
        "id": "48df7ae9"
      },
      "source": [
        "# DownSampling"
      ]
    },
    {
      "cell_type": "code",
      "execution_count": null,
      "id": "qUeHv8H-7L13",
      "metadata": {
        "id": "qUeHv8H-7L13"
      },
      "outputs": [],
      "source": []
    },
    {
      "cell_type": "code",
      "execution_count": 12,
      "id": "oZGEKIofNH9n",
      "metadata": {
        "colab": {
          "base_uri": "https://localhost:8080/",
          "height": 407
        },
        "id": "oZGEKIofNH9n",
        "outputId": "a8fc5426-41ad-40b1-874d-ebd7b851d96e"
      },
      "outputs": [
        {
          "data": {
            "image/png": "[encoded data removed]",
            "text/plain": [
              "<Figure size 600x400 with 1 Axes>"
            ]
          },
          "metadata": {},
          "output_type": "display_data"
        }
      ],
      "source": [
        "import seaborn as sns\n",
        "import matplotlib.pyplot as plt\n",
        "\n",
        "# Plot the class distribution after downsampling\n",
        "plt.figure(figsize=(6, 4))\n",
        "sns.countplot(x=y_under, palette=\"Set2\")\n",
        "plt.title(\"Class Distribution After Downsampling\")\n",
        "plt.xlabel(\"Is Fraud\")\n",
        "plt.ylabel(\"Count\")\n",
        "plt.xticks([0, 1], ['Not Fraud (0)', 'Fraud (1)'])\n",
        "plt.tight_layout()\n",
        "plt.show()\n"
      ]
    },
    {
      "cell_type": "code",
      "execution_count": null,
      "id": "Ge_ApIHug1hI",
      "metadata": {
        "colab": {
          "base_uri": "https://localhost:8080/",
          "height": 178
        },
        "id": "Ge_ApIHug1hI",
        "outputId": "2a111490-7bf3-41a8-8975-26573c688357"
      },
      "outputs": [
        {
          "data": {
            "text/html": [
              "<div>\n",
              "<style scoped>\n",
              "    .dataframe tbody tr th:only-of-type {\n",
              "        vertical-align: middle;\n",
              "    }\n",
              "\n",
              "    .dataframe tbody tr th {\n",
              "        vertical-align: top;\n",
              "    }\n",
              "\n",
              "    .dataframe thead th {\n",
              "        text-align: right;\n",
              "    }\n",
              "</style>\n",
              "<table border=\"1\" class=\"dataframe\">\n",
              "  <thead>\n",
              "    <tr style=\"text-align: right;\">\n",
              "      <th></th>\n",
              "      <th>count</th>\n",
              "    </tr>\n",
              "    <tr>\n",
              "      <th>is_fraud</th>\n",
              "      <th></th>\n",
              "    </tr>\n",
              "  </thead>\n",
              "  <tbody>\n",
              "    <tr>\n",
              "      <th>0</th>\n",
              "      <td>179553</td>\n",
              "    </tr>\n",
              "    <tr>\n",
              "      <th>1</th>\n",
              "      <td>179553</td>\n",
              "    </tr>\n",
              "  </tbody>\n",
              "</table>\n",
              "</div><br><label><b>dtype:</b> int64</label>"
            ],
            "text/plain": [
              "is_fraud\n",
              "0    179553\n",
              "1    179553\n",
              "Name: count, dtype: int64"
            ]
          },
          "execution_count": 48,
          "metadata": {},
          "output_type": "execute_result"
        }
      ],
      "source": [
        "y_under.value_counts()"
      ]
    },
    {
      "cell_type": "code",
      "execution_count": null,
      "id": "5dc75272",
      "metadata": {
        "id": "5dc75272"
      },
      "outputs": [],
      "source": [
        "var_smoothing = 3.920778958037333e-14\n",
        "prior_a = 0.35443940696930026\n",
        "priors = [prior_a, 1 - prior_a]"
      ]
    },
    {
      "cell_type": "markdown",
      "id": "f-LI_py89AzI",
      "metadata": {
        "id": "f-LI_py89AzI"
      },
      "source": [
        "## Train model"
      ]
    },
    {
      "cell_type": "code",
      "execution_count": null,
      "id": "cd370fd8",
      "metadata": {
        "colab": {
          "base_uri": "https://localhost:8080/",
          "height": 80
        },
        "id": "cd370fd8",
        "outputId": "848ff389-9ee6-4764-a363-3f68d23e901b"
      },
      "outputs": [
        {
          "data": {
            "text/html": [
              "<style>#sk-container-id-6 {\n",
              "  /* Definition of color scheme common for light and dark mode */\n",
              "  --sklearn-color-text: #000;\n",
              "  --sklearn-color-text-muted: #666;\n",
              "  --sklearn-color-line: gray;\n",
              "  /* Definition of color scheme for unfitted estimators */\n",
              "  --sklearn-color-unfitted-level-0: #fff5e6;\n",
              "  --sklearn-color-unfitted-level-1: #f6e4d2;\n",
              "  --sklearn-color-unfitted-level-2: #ffe0b3;\n",
              "  --sklearn-color-unfitted-level-3: chocolate;\n",
              "  /* Definition of color scheme for fitted estimators */\n",
              "  --sklearn-color-fitted-level-0: #f0f8ff;\n",
              "  --sklearn-color-fitted-level-1: #d4ebff;\n",
              "  --sklearn-color-fitted-level-2: #b3dbfd;\n",
              "  --sklearn-color-fitted-level-3: cornflowerblue;\n",
              "\n",
              "  /* Specific color for light theme */\n",
              "  --sklearn-color-text-on-default-background: var(--sg-text-color, var(--theme-code-foreground, var(--jp-content-font-color1, black)));\n",
              "  --sklearn-color-background: var(--sg-background-color, var(--theme-background, var(--jp-layout-color0, white)));\n",
              "  --sklearn-color-border-box: var(--sg-text-color, var(--theme-code-foreground, var(--jp-content-font-color1, black)));\n",
              "  --sklearn-color-icon: #696969;\n",
              "\n",
              "  @media (prefers-color-scheme: dark) {\n",
              "    /* Redefinition of color scheme for dark theme */\n",
              "    --sklearn-color-text-on-default-background: var(--sg-text-color, var(--theme-code-foreground, var(--jp-content-font-color1, white)));\n",
              "    --sklearn-color-background: var(--sg-background-color, var(--theme-background, var(--jp-layout-color0, #111)));\n",
              "    --sklearn-color-border-box: var(--sg-text-color, var(--theme-code-foreground, var(--jp-content-font-color1, white)));\n",
              "    --sklearn-color-icon: #878787;\n",
              "  }\n",
              "}\n",
              "\n",
              "#sk-container-id-6 {\n",
              "  color: var(--sklearn-color-text);\n",
              "}\n",
              "\n",
              "#sk-container-id-6 pre {\n",
              "  padding: 0;\n",
              "}\n",
              "\n",
              "#sk-container-id-6 input.sk-hidden--visually {\n",
              "  border: 0;\n",
              "  clip: rect(1px 1px 1px 1px);\n",
              "  clip: rect(1px, 1px, 1px, 1px);\n",
              "  height: 1px;\n",
              "  margin: -1px;\n",
              "  overflow: hidden;\n",
              "  padding: 0;\n",
              "  position: absolute;\n",
              "  width: 1px;\n",
              "}\n",
              "\n",
              "#sk-container-id-6 div.sk-dashed-wrapped {\n",
              "  border: 1px dashed var(--sklearn-color-line);\n",
              "  margin: 0 0.4em 0.5em 0.4em;\n",
              "  box-sizing: border-box;\n",
              "  padding-bottom: 0.4em;\n",
              "  background-color: var(--sklearn-color-background);\n",
              "}\n",
              "\n",
              "#sk-container-id-6 div.sk-container {\n",
              "  /* jupyter's `normalize.less` sets `[hidden] { display: none; }`\n",
              "     but bootstrap.min.css set `[hidden] { display: none !important; }`\n",
              "     so we also need the `!important` here to be able to override the\n",
              "     default hidden behavior on the sphinx rendered scikit-learn.org.\n",
              "     See: https://github.com/scikit-learn/scikit-learn/issues/21755 */\n",
              "  display: inline-block !important;\n",
              "  position: relative;\n",
              "}\n",
              "\n",
              "#sk-container-id-6 div.sk-text-repr-fallback {\n",
              "  display: none;\n",
              "}\n",
              "\n",
              "div.sk-parallel-item,\n",
              "div.sk-serial,\n",
              "div.sk-item {\n",
              "  /* draw centered vertical line to link estimators */\n",
              "  background-image: linear-gradient(var(--sklearn-color-text-on-default-background), var(--sklearn-color-text-on-default-background));\n",
              "  background-size: 2px 100%;\n",
              "  background-repeat: no-repeat;\n",
              "  background-position: center center;\n",
              "}\n",
              "\n",
              "/* Parallel-specific style estimator block */\n",
              "\n",
              "#sk-container-id-6 div.sk-parallel-item::after {\n",
              "  content: \"\";\n",
              "  width: 100%;\n",
              "  border-bottom: 2px solid var(--sklearn-color-text-on-default-background);\n",
              "  flex-grow: 1;\n",
              "}\n",
              "\n",
              "#sk-container-id-6 div.sk-parallel {\n",
              "  display: flex;\n",
              "  align-items: stretch;\n",
              "  justify-content: center;\n",
              "  background-color: var(--sklearn-color-background);\n",
              "  position: relative;\n",
              "}\n",
              "\n",
              "#sk-container-id-6 div.sk-parallel-item {\n",
              "  display: flex;\n",
              "  flex-direction: column;\n",
              "}\n",
              "\n",
              "#sk-container-id-6 div.sk-parallel-item:first-child::after {\n",
              "  align-self: flex-end;\n",
              "  width: 50%;\n",
              "}\n",
              "\n",
              "#sk-container-id-6 div.sk-parallel-item:last-child::after {\n",
              "  align-self: flex-start;\n",
              "  width: 50%;\n",
              "}\n",
              "\n",
              "#sk-container-id-6 div.sk-parallel-item:only-child::after {\n",
              "  width: 0;\n",
              "}\n",
              "\n",
              "/* Serial-specific style estimator block */\n",
              "\n",
              "#sk-container-id-6 div.sk-serial {\n",
              "  display: flex;\n",
              "  flex-direction: column;\n",
              "  align-items: center;\n",
              "  background-color: var(--sklearn-color-background);\n",
              "  padding-right: 1em;\n",
              "  padding-left: 1em;\n",
              "}\n",
              "\n",
              "\n",
              "/* Toggleable style: style used for estimator/Pipeline/ColumnTransformer box that is\n",
              "clickable and can be expanded/collapsed.\n",
              "- Pipeline and ColumnTransformer use this feature and define the default style\n",
              "- Estimators will overwrite some part of the style using the `sk-estimator` class\n",
              "*/\n",
              "\n",
              "/* Pipeline and ColumnTransformer style (default) */\n",
              "\n",
              "#sk-container-id-6 div.sk-toggleable {\n",
              "  /* Default theme specific background. It is overwritten whether we have a\n",
              "  specific estimator or a Pipeline/ColumnTransformer */\n",
              "  background-color: var(--sklearn-color-background);\n",
              "}\n",
              "\n",
              "/* Toggleable label */\n",
              "#sk-container-id-6 label.sk-toggleable__label {\n",
              "  cursor: pointer;\n",
              "  display: flex;\n",
              "  width: 100%;\n",
              "  margin-bottom: 0;\n",
              "  padding: 0.5em;\n",
              "  box-sizing: border-box;\n",
              "  text-align: center;\n",
              "  align-items: start;\n",
              "  justify-content: space-between;\n",
              "  gap: 0.5em;\n",
              "}\n",
              "\n",
              "#sk-container-id-6 label.sk-toggleable__label .caption {\n",
              "  font-size: 0.6rem;\n",
              "  font-weight: lighter;\n",
              "  color: var(--sklearn-color-text-muted);\n",
              "}\n",
              "\n",
              "#sk-container-id-6 label.sk-toggleable__label-arrow:before {\n",
              "  /* Arrow on the left of the label */\n",
              "  content: \"▸\";\n",
              "  float: left;\n",
              "  margin-right: 0.25em;\n",
              "  color: var(--sklearn-color-icon);\n",
              "}\n",
              "\n",
              "#sk-container-id-6 label.sk-toggleable__label-arrow:hover:before {\n",
              "  color: var(--sklearn-color-text);\n",
              "}\n",
              "\n",
              "/* Toggleable content - dropdown */\n",
              "\n",
              "#sk-container-id-6 div.sk-toggleable__content {\n",
              "  max-height: 0;\n",
              "  max-width: 0;\n",
              "  overflow: hidden;\n",
              "  text-align: left;\n",
              "  /* unfitted */\n",
              "  background-color: var(--sklearn-color-unfitted-level-0);\n",
              "}\n",
              "\n",
              "#sk-container-id-6 div.sk-toggleable__content.fitted {\n",
              "  /* fitted */\n",
              "  background-color: var(--sklearn-color-fitted-level-0);\n",
              "}\n",
              "\n",
              "#sk-container-id-6 div.sk-toggleable__content pre {\n",
              "  margin: 0.2em;\n",
              "  border-radius: 0.25em;\n",
              "  color: var(--sklearn-color-text);\n",
              "  /* unfitted */\n",
              "  background-color: var(--sklearn-color-unfitted-level-0);\n",
              "}\n",
              "\n",
              "#sk-container-id-6 div.sk-toggleable__content.fitted pre {\n",
              "  /* unfitted */\n",
              "  background-color: var(--sklearn-color-fitted-level-0);\n",
              "}\n",
              "\n",
              "#sk-container-id-6 input.sk-toggleable__control:checked~div.sk-toggleable__content {\n",
              "  /* Expand drop-down */\n",
              "  max-height: 200px;\n",
              "  max-width: 100%;\n",
              "  overflow: auto;\n",
              "}\n",
              "\n",
              "#sk-container-id-6 input.sk-toggleable__control:checked~label.sk-toggleable__label-arrow:before {\n",
              "  content: \"▾\";\n",
              "}\n",
              "\n",
              "/* Pipeline/ColumnTransformer-specific style */\n",
              "\n",
              "#sk-container-id-6 div.sk-label input.sk-toggleable__control:checked~label.sk-toggleable__label {\n",
              "  color: var(--sklearn-color-text);\n",
              "  background-color: var(--sklearn-color-unfitted-level-2);\n",
              "}\n",
              "\n",
              "#sk-container-id-6 div.sk-label.fitted input.sk-toggleable__control:checked~label.sk-toggleable__label {\n",
              "  background-color: var(--sklearn-color-fitted-level-2);\n",
              "}\n",
              "\n",
              "/* Estimator-specific style */\n",
              "\n",
              "/* Colorize estimator box */\n",
              "#sk-container-id-6 div.sk-estimator input.sk-toggleable__control:checked~label.sk-toggleable__label {\n",
              "  /* unfitted */\n",
              "  background-color: var(--sklearn-color-unfitted-level-2);\n",
              "}\n",
              "\n",
              "#sk-container-id-6 div.sk-estimator.fitted input.sk-toggleable__control:checked~label.sk-toggleable__label {\n",
              "  /* fitted */\n",
              "  background-color: var(--sklearn-color-fitted-level-2);\n",
              "}\n",
              "\n",
              "#sk-container-id-6 div.sk-label label.sk-toggleable__label,\n",
              "#sk-container-id-6 div.sk-label label {\n",
              "  /* The background is the default theme color */\n",
              "  color: var(--sklearn-color-text-on-default-background);\n",
              "}\n",
              "\n",
              "/* On hover, darken the color of the background */\n",
              "#sk-container-id-6 div.sk-label:hover label.sk-toggleable__label {\n",
              "  color: var(--sklearn-color-text);\n",
              "  background-color: var(--sklearn-color-unfitted-level-2);\n",
              "}\n",
              "\n",
              "/* Label box, darken color on hover, fitted */\n",
              "#sk-container-id-6 div.sk-label.fitted:hover label.sk-toggleable__label.fitted {\n",
              "  color: var(--sklearn-color-text);\n",
              "  background-color: var(--sklearn-color-fitted-level-2);\n",
              "}\n",
              "\n",
              "/* Estimator label */\n",
              "\n",
              "#sk-container-id-6 div.sk-label label {\n",
              "  font-family: monospace;\n",
              "  font-weight: bold;\n",
              "  display: inline-block;\n",
              "  line-height: 1.2em;\n",
              "}\n",
              "\n",
              "#sk-container-id-6 div.sk-label-container {\n",
              "  text-align: center;\n",
              "}\n",
              "\n",
              "/* Estimator-specific */\n",
              "#sk-container-id-6 div.sk-estimator {\n",
              "  font-family: monospace;\n",
              "  border: 1px dotted var(--sklearn-color-border-box);\n",
              "  border-radius: 0.25em;\n",
              "  box-sizing: border-box;\n",
              "  margin-bottom: 0.5em;\n",
              "  /* unfitted */\n",
              "  background-color: var(--sklearn-color-unfitted-level-0);\n",
              "}\n",
              "\n",
              "#sk-container-id-6 div.sk-estimator.fitted {\n",
              "  /* fitted */\n",
              "  background-color: var(--sklearn-color-fitted-level-0);\n",
              "}\n",
              "\n",
              "/* on hover */\n",
              "#sk-container-id-6 div.sk-estimator:hover {\n",
              "  /* unfitted */\n",
              "  background-color: var(--sklearn-color-unfitted-level-2);\n",
              "}\n",
              "\n",
              "#sk-container-id-6 div.sk-estimator.fitted:hover {\n",
              "  /* fitted */\n",
              "  background-color: var(--sklearn-color-fitted-level-2);\n",
              "}\n",
              "\n",
              "/* Specification for estimator info (e.g. \"i\" and \"?\") */\n",
              "\n",
              "/* Common style for \"i\" and \"?\" */\n",
              "\n",
              ".sk-estimator-doc-link,\n",
              "a:link.sk-estimator-doc-link,\n",
              "a:visited.sk-estimator-doc-link {\n",
              "  float: right;\n",
              "  font-size: smaller;\n",
              "  line-height: 1em;\n",
              "  font-family: monospace;\n",
              "  background-color: var(--sklearn-color-background);\n",
              "  border-radius: 1em;\n",
              "  height: 1em;\n",
              "  width: 1em;\n",
              "  text-decoration: none !important;\n",
              "  margin-left: 0.5em;\n",
              "  text-align: center;\n",
              "  /* unfitted */\n",
              "  border: var(--sklearn-color-unfitted-level-1) 1pt solid;\n",
              "  color: var(--sklearn-color-unfitted-level-1);\n",
              "}\n",
              "\n",
              ".sk-estimator-doc-link.fitted,\n",
              "a:link.sk-estimator-doc-link.fitted,\n",
              "a:visited.sk-estimator-doc-link.fitted {\n",
              "  /* fitted */\n",
              "  border: var(--sklearn-color-fitted-level-1) 1pt solid;\n",
              "  color: var(--sklearn-color-fitted-level-1);\n",
              "}\n",
              "\n",
              "/* On hover */\n",
              "div.sk-estimator:hover .sk-estimator-doc-link:hover,\n",
              ".sk-estimator-doc-link:hover,\n",
              "div.sk-label-container:hover .sk-estimator-doc-link:hover,\n",
              ".sk-estimator-doc-link:hover {\n",
              "  /* unfitted */\n",
              "  background-color: var(--sklearn-color-unfitted-level-3);\n",
              "  color: var(--sklearn-color-background);\n",
              "  text-decoration: none;\n",
              "}\n",
              "\n",
              "div.sk-estimator.fitted:hover .sk-estimator-doc-link.fitted:hover,\n",
              ".sk-estimator-doc-link.fitted:hover,\n",
              "div.sk-label-container:hover .sk-estimator-doc-link.fitted:hover,\n",
              ".sk-estimator-doc-link.fitted:hover {\n",
              "  /* fitted */\n",
              "  background-color: var(--sklearn-color-fitted-level-3);\n",
              "  color: var(--sklearn-color-background);\n",
              "  text-decoration: none;\n",
              "}\n",
              "\n",
              "/* Span, style for the box shown on hovering the info icon */\n",
              ".sk-estimator-doc-link span {\n",
              "  display: none;\n",
              "  z-index: 9999;\n",
              "  position: relative;\n",
              "  font-weight: normal;\n",
              "  right: .2ex;\n",
              "  padding: .5ex;\n",
              "  margin: .5ex;\n",
              "  width: min-content;\n",
              "  min-width: 20ex;\n",
              "  max-width: 50ex;\n",
              "  color: var(--sklearn-color-text);\n",
              "  box-shadow: 2pt 2pt 4pt #999;\n",
              "  /* unfitted */\n",
              "  background: var(--sklearn-color-unfitted-level-0);\n",
              "  border: .5pt solid var(--sklearn-color-unfitted-level-3);\n",
              "}\n",
              "\n",
              ".sk-estimator-doc-link.fitted span {\n",
              "  /* fitted */\n",
              "  background: var(--sklearn-color-fitted-level-0);\n",
              "  border: var(--sklearn-color-fitted-level-3);\n",
              "}\n",
              "\n",
              ".sk-estimator-doc-link:hover span {\n",
              "  display: block;\n",
              "}\n",
              "\n",
              "/* \"?\"-specific style due to the `<a>` HTML tag */\n",
              "\n",
              "#sk-container-id-6 a.estimator_doc_link {\n",
              "  float: right;\n",
              "  font-size: 1rem;\n",
              "  line-height: 1em;\n",
              "  font-family: monospace;\n",
              "  background-color: var(--sklearn-color-background);\n",
              "  border-radius: 1rem;\n",
              "  height: 1rem;\n",
              "  width: 1rem;\n",
              "  text-decoration: none;\n",
              "  /* unfitted */\n",
              "  color: var(--sklearn-color-unfitted-level-1);\n",
              "  border: var(--sklearn-color-unfitted-level-1) 1pt solid;\n",
              "}\n",
              "\n",
              "#sk-container-id-6 a.estimator_doc_link.fitted {\n",
              "  /* fitted */\n",
              "  border: var(--sklearn-color-fitted-level-1) 1pt solid;\n",
              "  color: var(--sklearn-color-fitted-level-1);\n",
              "}\n",
              "\n",
              "/* On hover */\n",
              "#sk-container-id-6 a.estimator_doc_link:hover {\n",
              "  /* unfitted */\n",
              "  background-color: var(--sklearn-color-unfitted-level-3);\n",
              "  color: var(--sklearn-color-background);\n",
              "  text-decoration: none;\n",
              "}\n",
              "\n",
              "#sk-container-id-6 a.estimator_doc_link.fitted:hover {\n",
              "  /* fitted */\n",
              "  background-color: var(--sklearn-color-fitted-level-3);\n",
              "}\n",
              "</style><div id=\"sk-container-id-6\" class=\"sk-top-container\"><div class=\"sk-text-repr-fallback\"><pre>GaussianNB()</pre><b>In a Jupyter environment, please rerun this cell to show the HTML representation or trust the notebook. <br />On GitHub, the HTML representation is unable to render, please try loading this page with nbviewer.org.</b></div><div class=\"sk-container\" hidden><div class=\"sk-item\"><div class=\"sk-estimator fitted sk-toggleable\"><input class=\"sk-toggleable__control sk-hidden--visually\" id=\"sk-estimator-id-6\" type=\"checkbox\" checked><label for=\"sk-estimator-id-6\" class=\"sk-toggleable__label fitted sk-toggleable__label-arrow\"><div><div>GaussianNB</div></div><div><a class=\"sk-estimator-doc-link fitted\" rel=\"noreferrer\" target=\"_blank\" href=\"https://scikit-learn.org/1.6/modules/generated/sklearn.naive_bayes.GaussianNB.html\">?<span>Documentation for GaussianNB</span></a><span class=\"sk-estimator-doc-link fitted\">i<span>Fitted</span></span></div></label><div class=\"sk-toggleable__content fitted\"><pre>GaussianNB()</pre></div> </div></div></div></div>"
            ],
            "text/plain": [
              "GaussianNB()"
            ]
          },
          "execution_count": 69,
          "metadata": {},
          "output_type": "execute_result"
        }
      ],
      "source": [
        "# model = GaussianNB(var_smoothing=var_smoothing, priors=priors)\n",
        "model = GaussianNB()\n",
        "\n",
        "\n",
        "model.fit(X_train, y_train)"
      ]
    },
    {
      "cell_type": "code",
      "execution_count": null,
      "id": "OMkipyBcgjpf",
      "metadata": {
        "colab": {
          "base_uri": "https://localhost:8080/"
        },
        "id": "OMkipyBcgjpf",
        "outputId": "3fddffde-2001-4d49-a0c0-05dfee96ffad"
      },
      "outputs": [
        {
          "data": {
            "text/plain": [
              "0.4984405892344964"
            ]
          },
          "execution_count": 70,
          "metadata": {},
          "output_type": "execute_result"
        }
      ],
      "source": [
        "model.score(X_test, y_test)"
      ]
    },
    {
      "cell_type": "markdown",
      "id": "0309a9c0",
      "metadata": {
        "id": "0309a9c0"
      },
      "source": [
        "then calcualte f score , accuracy ,plots for data"
      ]
    },
    {
      "cell_type": "code",
      "execution_count": null,
      "id": "l9KwgxNIfZoG",
      "metadata": {
        "colab": {
          "base_uri": "https://localhost:8080/"
        },
        "id": "l9KwgxNIfZoG",
        "outputId": "16dd83a9-4a4c-47b7-ceda-3b3750e8676b"
      },
      "outputs": [
        {
          "name": "stdout",
          "output_type": "stream",
          "text": [
            "=== Test Classification Report ===\n",
            "              precision    recall  f1-score   support\n",
            "\n",
            "           0       0.50      0.45      0.48     35988\n",
            "           1       0.50      0.54      0.52     35834\n",
            "\n",
            "    accuracy                           0.50     71822\n",
            "   macro avg       0.50      0.50      0.50     71822\n",
            "weighted avg       0.50      0.50      0.50     71822\n",
            "\n",
            "=== Train Classification Report ===\n",
            "              precision    recall  f1-score   support\n",
            "\n",
            "           0       0.50      0.46      0.48    143565\n",
            "           1       0.50      0.55      0.52    143719\n",
            "\n",
            "    accuracy                           0.50    287284\n",
            "   macro avg       0.50      0.50      0.50    287284\n",
            "weighted avg       0.50      0.50      0.50    287284\n",
            "\n",
            "=== Test Confusion Matrix ===\n",
            "[[16312 19676]\n",
            " [16347 19487]]\n",
            "=== Train Confusion Matrix  ===\n",
            "[[65890 77675]\n",
            " [65349 78370]]\n"
          ]
        }
      ],
      "source": [
        "from sklearn.ensemble import RandomForestClassifier\n",
        "from sklearn.metrics import classification_report, confusion_matrix\n",
        "import matplotlib.pyplot as plt\n",
        "\n",
        "\n",
        "\n",
        "\n",
        "# 2. Predict on test and train sets\n",
        "y_pred_test = model.predict(X_test)\n",
        "y_pred_train = model.predict(X_train)\n",
        "\n",
        "# 3. Classification reports\n",
        "print(\"=== Test Classification Report ===\")\n",
        "print(classification_report(y_test, y_pred_test))\n",
        "\n",
        "print(\"=== Train Classification Report ===\")\n",
        "print(classification_report(y_train, y_pred_train))\n",
        "\n",
        "# 4. Confusion matrices\n",
        "print(\"=== Test Confusion Matrix ===\")\n",
        "print(confusion_matrix(y_test, y_pred_test))\n",
        "\n",
        "print(\"=== Train Confusion Matrix  ===\")\n",
        "print(confusion_matrix(y_train, y_pred_train))\n"
      ]
    },
    {
      "cell_type": "code",
      "execution_count": null,
      "id": "k4xHbSnP-DOF",
      "metadata": {
        "colab": {
          "base_uri": "https://localhost:8080/",
          "height": 1000
        },
        "id": "k4xHbSnP-DOF",
        "outputId": "e34a2b09-5588-4cbb-d870-efca6ad53835"
      },
      "outputs": [
        {
          "name": "stdout",
          "output_type": "stream",
          "text": [
            "=== Test Classification Report ===\n",
            "              precision    recall  f1-score   support\n",
            "\n",
            "           0       0.50      0.45      0.48     35988\n",
            "           1       0.50      0.54      0.52     35834\n",
            "\n",
            "    accuracy                           0.50     71822\n",
            "   macro avg       0.50      0.50      0.50     71822\n",
            "weighted avg       0.50      0.50      0.50     71822\n",
            "\n",
            "=== Train Classification Report ===\n",
            "              precision    recall  f1-score   support\n",
            "\n",
            "           0       0.50      0.46      0.48    143565\n",
            "           1       0.50      0.55      0.52    143719\n",
            "\n",
            "    accuracy                           0.50    287284\n",
            "   macro avg       0.50      0.50      0.50    287284\n",
            "weighted avg       0.50      0.50      0.50    287284\n",
            "\n"
          ]
        },
        {
          "data": {
            "image/png": "[encoded data removed]",
            "text/plain": [
              "<Figure size 500x400 with 1 Axes>"
            ]
          },
          "metadata": {},
          "output_type": "display_data"
        },
        {
          "data": {
            "image/png": "[encoded data removed]",
            "text/plain": [
              "<Figure size 500x400 with 1 Axes>"
            ]
          },
          "metadata": {},
          "output_type": "display_data"
        }
      ],
      "source": [
        "import matplotlib.pyplot as plt\n",
        "import seaborn as sns\n",
        "from sklearn.metrics import confusion_matrix, classification_report\n",
        "\n",
        "# 1. Predictions\n",
        "y_pred_test = model.predict(X_test)\n",
        "y_pred_train = model.predict(X_train)\n",
        "\n",
        "# 2. Classification reports\n",
        "print(\"=== Test Classification Report ===\")\n",
        "print(classification_report(y_test, y_pred_test))\n",
        "\n",
        "print(\"=== Train Classification Report ===\")\n",
        "print(classification_report(y_train, y_pred_train))\n",
        "\n",
        "# 3. Confusion Matrices\n",
        "cm_test = confusion_matrix(y_test, y_pred_test)\n",
        "cm_train = confusion_matrix(y_train, y_pred_train)\n",
        "\n",
        "# 4. Plot function\n",
        "def plot_confusion(cm, title):\n",
        "    plt.figure(figsize=(5, 4))\n",
        "    sns.heatmap(cm, annot=True, fmt=\"d\", cmap=\"Blues\", cbar=False,\n",
        "                xticklabels=[\"Not Fraud\", \"Fraud\"],\n",
        "                yticklabels=[\"Not Fraud\", \"Fraud\"])\n",
        "    plt.xlabel(\"Predicted\")\n",
        "    plt.ylabel(\"Actual\")\n",
        "    plt.title(title)\n",
        "    plt.show()\n",
        "\n",
        "# 5. Plot them\n",
        "plot_confusion(cm_test, \"Test Set Confusion Matrix\")\n",
        "plot_confusion(cm_train, \"Train Set Confusion Matrix\")\n"
      ]
    },
    {
      "cell_type": "markdown",
      "id": "Rb2hmW9i9xlE",
      "metadata": {
        "id": "Rb2hmW9i9xlE"
      },
      "source": [
        "# Deep Learning"
      ]
    },
    {
      "cell_type": "code",
      "execution_count": null,
      "id": "S-ybdfc55eqt",
      "metadata": {
        "id": "S-ybdfc55eqt"
      },
      "outputs": [],
      "source": [
        "import tensorflow as tf\n",
        "from tensorflow.keras import layers, models"
      ]
    },
    {
      "cell_type": "code",
      "execution_count": null,
      "id": "FLQS_YjD5euG",
      "metadata": {
        "id": "FLQS_YjD5euG"
      },
      "outputs": [],
      "source": [
        "X_train_tf = tf.convert_to_tensor(X_train.to_numpy(), dtype=tf.float32)\n",
        "y_train_tf = tf.convert_to_tensor(y_train.to_numpy(), dtype=tf.float32)\n",
        "\n",
        "X_test_tf = tf.convert_to_tensor(X_test.to_numpy(), dtype=tf.float32)\n",
        "y_test_tf = tf.convert_to_tensor(y_test.to_numpy(), dtype=tf.float32)"
      ]
    },
    {
      "cell_type": "code",
      "execution_count": null,
      "id": "cKlkdHQG5zf6",
      "metadata": {
        "id": "cKlkdHQG5zf6"
      },
      "outputs": [],
      "source": [
        "model = models.Sequential([\n",
        "    layers.Input(shape=(X_train.shape[1],)),\n",
        "    layers.Dense(128, activation=\"relu\"),\n",
        "    layers.Dropout(0.3),\n",
        "    layers.Dense(64, activation=\"relu\"),\n",
        "    layers.Dropout(0.3),\n",
        "    layers.Dense(1, activation=\"sigmoid\")  # Binary classification\n",
        "])\n",
        "\n",
        "model.compile(optimizer=\"adam\", loss=\"binary_crossentropy\", metrics=[\"AUC\", \"accuracy\"])"
      ]
    },
    {
      "cell_type": "code",
      "execution_count": null,
      "id": "RpQVpA8H5zjQ",
      "metadata": {
        "colab": {
          "base_uri": "https://localhost:8080/"
        },
        "id": "RpQVpA8H5zjQ",
        "outputId": "67a82271-65e0-42dc-c13d-dbb6c0a66a1d"
      },
      "outputs": [
        {
          "name": "stdout",
          "output_type": "stream",
          "text": [
            "Epoch 1/5\n",
            "\u001b[1m225/225\u001b[0m \u001b[32m━━━━━━━━━━━━━━━━━━━━\u001b[0m\u001b[37m\u001b[0m \u001b[1m71s\u001b[0m 13ms/step - AUC: 0.5001 - accuracy: 0.4997 - loss: 30520.6719 - val_AUC: 0.5001 - val_accuracy: 0.4998 - val_loss: 0.6932\n",
            "Epoch 2/5\n",
            "\u001b[1m225/225\u001b[0m \u001b[32m━━━━━━━━━━━━━━━━━━━━\u001b[0m\u001b[37m\u001b[0m \u001b[1m6s\u001b[0m 15ms/step - AUC: 0.5029 - accuracy: 0.5036 - loss: 37.7687 - val_AUC: 0.5000 - val_accuracy: 0.4998 - val_loss: 0.6931\n",
            "Epoch 3/5\n",
            "\u001b[1m225/225\u001b[0m \u001b[32m━━━━━━━━━━━━━━━━━━━━\u001b[0m\u001b[37m\u001b[0m \u001b[1m5s\u001b[0m 13ms/step - AUC: 0.5013 - accuracy: 0.5021 - loss: 12.1909 - val_AUC: 0.5000 - val_accuracy: 0.4998 - val_loss: 0.6931\n",
            "Epoch 4/5\n",
            "\u001b[1m225/225\u001b[0m \u001b[32m━━━━━━━━━━━━━━━━━━━━\u001b[0m\u001b[37m\u001b[0m \u001b[1m5s\u001b[0m 13ms/step - AUC: 0.4998 - accuracy: 0.5011 - loss: 6.4084 - val_AUC: 0.5000 - val_accuracy: 0.4998 - val_loss: 0.6931\n",
            "Epoch 5/5\n",
            "\u001b[1m225/225\u001b[0m \u001b[32m━━━━━━━━━━━━━━━━━━━━\u001b[0m\u001b[37m\u001b[0m \u001b[1m3s\u001b[0m 15ms/step - AUC: 0.5003 - accuracy: 0.4982 - loss: 4.1576 - val_AUC: 0.5000 - val_accuracy: 0.4998 - val_loss: 0.6931\n"
          ]
        }
      ],
      "source": [
        "history = model.fit(X_train_tf, y_train_tf, epochs=5, batch_size=1024, validation_split=0.2)\n"
      ]
    },
    {
      "cell_type": "code",
      "execution_count": null,
      "id": "MaHGc28z58fE",
      "metadata": {
        "colab": {
          "base_uri": "https://localhost:8080/",
          "height": 927
        },
        "id": "MaHGc28z58fE",
        "outputId": "c4c75908-83c2-4dde-d7ca-7c82b56e5c38"
      },
      "outputs": [
        {
          "data": {
            "image/png": "[encoded data removed]",
            "text/plain": [
              "<Figure size 640x480 with 1 Axes>"
            ]
          },
          "metadata": {},
          "output_type": "display_data"
        },
        {
          "data": {
            "image/png": "[encoded data removed]",
            "text/plain": [
              "<Figure size 640x480 with 1 Axes>"
            ]
          },
          "metadata": {},
          "output_type": "display_data"
        }
      ],
      "source": [
        "# Plot accuracy\n",
        "plt.plot(history.history['accuracy'], label='train_accuracy')\n",
        "plt.plot(history.history['val_accuracy'], label='val_accuracy')\n",
        "plt.title('Model Accuracy')\n",
        "plt.xlabel('Epoch')\n",
        "plt.ylabel('Accuracy')\n",
        "plt.legend()\n",
        "plt.show()\n",
        "\n",
        "# Plot loss\n",
        "plt.plot(history.history['loss'], label='train_loss')\n",
        "plt.plot(history.history['val_loss'], label='val_loss')\n",
        "plt.title('Model Loss')\n",
        "plt.xlabel('Epoch')\n",
        "plt.ylabel('Loss')\n",
        "plt.legend()\n",
        "plt.show()"
      ]
    },
    {
      "cell_type": "code",
      "execution_count": null,
      "id": "4khihBCb6BT4",
      "metadata": {
        "colab": {
          "base_uri": "https://localhost:8080/"
        },
        "id": "4khihBCb6BT4",
        "outputId": "78823cd5-cf7b-44c6-c39f-b672065ac0c0"
      },
      "outputs": [
        {
          "name": "stdout",
          "output_type": "stream",
          "text": [
            "Final Training Accuracy: 0.4971\n",
            "Final Validation Accuracy: 0.4998\n"
          ]
        }
      ],
      "source": [
        "final_train_acc = history.history['accuracy'][-1]\n",
        "final_val_acc = history.history['val_accuracy'][-1]\n",
        "print(f\"Final Training Accuracy: {final_train_acc:.4f}\")\n",
        "print(f\"Final Validation Accuracy: {final_val_acc:.4f}\")"
      ]
    },
    {
      "cell_type": "code",
      "execution_count": null,
      "id": "TsY0BvCu6IZN",
      "metadata": {
        "colab": {
          "base_uri": "https://localhost:8080/"
        },
        "id": "TsY0BvCu6IZN",
        "outputId": "223c3e1a-f763-47bb-a94e-dcca9136b891"
      },
      "outputs": [
        {
          "name": "stdout",
          "output_type": "stream",
          "text": [
            "\u001b[1m2245/2245\u001b[0m \u001b[32m━━━━━━━━━━━━━━━━━━━━\u001b[0m\u001b[37m\u001b[0m \u001b[1m7s\u001b[0m 3ms/step - AUC: 0.5000 - accuracy: 0.5010 - loss: 0.6931\n",
            "Test Accuracy: 0.4989\n"
          ]
        }
      ],
      "source": [
        "test_loss, test_auc, test_accuracy = model.evaluate(X_test_tf, y_test_tf)\n",
        "print(f\"Test Accuracy: {test_accuracy:.4f}\")"
      ]
    }
  ],
  "metadata": {
    "colab": {
      "provenance": []
    },
    "kernelspec": {
      "display_name": "Python 3",
      "name": "python3"
    },
    "language_info": {
      "codemirror_mode": {
        "name": "ipython",
        "version": 3
      },
      "file_extension": ".py",
      "mimetype": "text/x-python",
      "name": "python",
      "nbconvert_exporter": "python",
      "pygments_lexer": "ipython3",
      "version": "3.11.4"
    }
  },
  "nbformat": 4,
  "nbformat_minor": 5
}
